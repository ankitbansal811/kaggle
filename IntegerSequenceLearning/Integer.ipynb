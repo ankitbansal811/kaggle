{
 "cells": [
  {
   "cell_type": "code",
   "execution_count": 7,
   "metadata": {},
   "outputs": [],
   "source": [
    "import json\n",
    "import pandas as pd\n",
    "import numpy as np\n",
    "import sklearn\n",
    "from zipfile import ZipFile\n",
    "import os\n",
    "import seaborn as sns\n",
    "import matplotlib.pyplot as plt\n",
    "from pathlib import Path"
   ]
  },
  {
   "cell_type": "code",
   "execution_count": 9,
   "metadata": {},
   "outputs": [],
   "source": [
    "data_folder = Path('data')\n",
    "train_zip = 'train.csv.zip'\n",
    "test_zip = 'test.csv.zip'"
   ]
  },
  {
   "cell_type": "code",
   "execution_count": 10,
   "metadata": {},
   "outputs": [],
   "source": [
    "def read_json_zip(zip_file_path):\n",
    "    with ZipFile(zip_file_path, \"r\") as z:\n",
    "        with z.open(zip_file_path.stem) as f:\n",
    "            data = pd.read_csv(f)\n",
    "    return data"
   ]
  },
  {
   "cell_type": "code",
   "execution_count": 11,
   "metadata": {},
   "outputs": [],
   "source": [
    "df_train = read_json_zip(data_folder.joinpath(train_zip))\n",
    "df_test = read_json_zip(data_folder.joinpath(test_zip))"
   ]
  },
  {
   "cell_type": "code",
   "execution_count": 12,
   "metadata": {
    "scrolled": true
   },
   "outputs": [
    {
     "data": {
      "text/html": [
       "<div>\n",
       "<style scoped>\n",
       "    .dataframe tbody tr th:only-of-type {\n",
       "        vertical-align: middle;\n",
       "    }\n",
       "\n",
       "    .dataframe tbody tr th {\n",
       "        vertical-align: top;\n",
       "    }\n",
       "\n",
       "    .dataframe thead th {\n",
       "        text-align: right;\n",
       "    }\n",
       "</style>\n",
       "<table border=\"1\" class=\"dataframe\">\n",
       "  <thead>\n",
       "    <tr style=\"text-align: right;\">\n",
       "      <th></th>\n",
       "      <th>Id</th>\n",
       "      <th>Sequence</th>\n",
       "    </tr>\n",
       "  </thead>\n",
       "  <tbody>\n",
       "    <tr>\n",
       "      <th>0</th>\n",
       "      <td>3</td>\n",
       "      <td>1,3,13,87,1053,28576,2141733,508147108,4021352...</td>\n",
       "    </tr>\n",
       "    <tr>\n",
       "      <th>1</th>\n",
       "      <td>7</td>\n",
       "      <td>1,2,1,5,5,1,11,16,7,1,23,44,30,9,1,47,112,104,...</td>\n",
       "    </tr>\n",
       "    <tr>\n",
       "      <th>2</th>\n",
       "      <td>8</td>\n",
       "      <td>1,2,4,5,8,10,16,20,32,40,64,80,128,160,256,320...</td>\n",
       "    </tr>\n",
       "    <tr>\n",
       "      <th>3</th>\n",
       "      <td>11</td>\n",
       "      <td>1,8,25,83,274,2275,132224,1060067,3312425,1099...</td>\n",
       "    </tr>\n",
       "    <tr>\n",
       "      <th>4</th>\n",
       "      <td>13</td>\n",
       "      <td>1,111,12211,1343211,147753211,16252853211,1787...</td>\n",
       "    </tr>\n",
       "    <tr>\n",
       "      <th>...</th>\n",
       "      <td>...</td>\n",
       "      <td>...</td>\n",
       "    </tr>\n",
       "    <tr>\n",
       "      <th>113840</th>\n",
       "      <td>227683</td>\n",
       "      <td>0,0,4,1198,1829388,23796035743,214296750607865...</td>\n",
       "    </tr>\n",
       "    <tr>\n",
       "      <th>113841</th>\n",
       "      <td>227684</td>\n",
       "      <td>0,-1,-1,-1,-1,10324303,-6586524273069171148,11...</td>\n",
       "    </tr>\n",
       "    <tr>\n",
       "      <th>113842</th>\n",
       "      <td>227686</td>\n",
       "      <td>0,1,9,85,801,7549,71145,670501,6319089,5955380...</td>\n",
       "    </tr>\n",
       "    <tr>\n",
       "      <th>113843</th>\n",
       "      <td>227689</td>\n",
       "      <td>2,3,3,4,6,4,5,10,10,5,6,15,20,15,6,7,21,35,35,...</td>\n",
       "    </tr>\n",
       "    <tr>\n",
       "      <th>113844</th>\n",
       "      <td>227690</td>\n",
       "      <td>5,7,179,229,439,557,6113,223999</td>\n",
       "    </tr>\n",
       "  </tbody>\n",
       "</table>\n",
       "<p>113845 rows × 2 columns</p>\n",
       "</div>"
      ],
      "text/plain": [
       "            Id                                           Sequence\n",
       "0            3  1,3,13,87,1053,28576,2141733,508147108,4021352...\n",
       "1            7  1,2,1,5,5,1,11,16,7,1,23,44,30,9,1,47,112,104,...\n",
       "2            8  1,2,4,5,8,10,16,20,32,40,64,80,128,160,256,320...\n",
       "3           11  1,8,25,83,274,2275,132224,1060067,3312425,1099...\n",
       "4           13  1,111,12211,1343211,147753211,16252853211,1787...\n",
       "...        ...                                                ...\n",
       "113840  227683  0,0,4,1198,1829388,23796035743,214296750607865...\n",
       "113841  227684  0,-1,-1,-1,-1,10324303,-6586524273069171148,11...\n",
       "113842  227686  0,1,9,85,801,7549,71145,670501,6319089,5955380...\n",
       "113843  227689  2,3,3,4,6,4,5,10,10,5,6,15,20,15,6,7,21,35,35,...\n",
       "113844  227690                    5,7,179,229,439,557,6113,223999\n",
       "\n",
       "[113845 rows x 2 columns]"
      ]
     },
     "execution_count": 12,
     "metadata": {},
     "output_type": "execute_result"
    }
   ],
   "source": [
    "df_train"
   ]
  },
  {
   "cell_type": "code",
   "execution_count": 13,
   "metadata": {},
   "outputs": [
    {
     "name": "stdout",
     "output_type": "stream",
     "text": [
      "Number of training examples: 113845\n",
      " Number of testing examples: 113845\n"
     ]
    }
   ],
   "source": [
    "print('Number of training examples: %s\\n Number of testing examples: %s' %(len(df_train), len(df_test)))"
   ]
  },
  {
   "cell_type": "code",
   "execution_count": 14,
   "metadata": {
    "scrolled": true
   },
   "outputs": [],
   "source": [
    "seq_len_train = df_train['Sequence'].str.split(',').map(len)\n",
    "seq_len_test = df_test['Sequence'].str.split(',').map(len)"
   ]
  },
  {
   "cell_type": "code",
   "execution_count": 15,
   "metadata": {
    "scrolled": true
   },
   "outputs": [
    {
     "name": "stdout",
     "output_type": "stream",
     "text": [
      "Train Sequence length: \n",
      " count    113845.000000\n",
      "mean         41.669630\n",
      "std          28.132079\n",
      "min           1.000000\n",
      "25%          19.000000\n",
      "50%          34.000000\n",
      "75%          59.000000\n",
      "90%          86.000000\n",
      "99%         105.000000\n",
      "max         348.000000\n",
      "Name: Sequence, dtype: float64 \n",
      "\n",
      "\n",
      "Test Sequence length: \n",
      " count    113845.000000\n",
      "mean         40.536370\n",
      "std          28.030535\n",
      "min           1.000000\n",
      "25%          18.000000\n",
      "50%          33.000000\n",
      "75%          57.000000\n",
      "90%          85.000000\n",
      "99%         104.000000\n",
      "max         347.000000\n",
      "Name: Sequence, dtype: float64 \n",
      "\n",
      "\n"
     ]
    }
   ],
   "source": [
    "print('Train Sequence length: \\n', seq_len_train.describe(percentiles=[.25, .5, .75, .9, .99]), '\\n\\n')\n",
    "print('Test Sequence length: \\n', seq_len_test.describe(percentiles=[.25, .5, .75, .9, .99]), '\\n\\n')"
   ]
  },
  {
   "cell_type": "markdown",
   "metadata": {},
   "source": [
    "Lets convert the data to pandas format for easy usage"
   ]
  },
  {
   "cell_type": "code",
   "execution_count": 16,
   "metadata": {},
   "outputs": [
    {
     "data": {
      "text/html": [
       "<div>\n",
       "<style scoped>\n",
       "    .dataframe tbody tr th:only-of-type {\n",
       "        vertical-align: middle;\n",
       "    }\n",
       "\n",
       "    .dataframe tbody tr th {\n",
       "        vertical-align: top;\n",
       "    }\n",
       "\n",
       "    .dataframe thead th {\n",
       "        text-align: right;\n",
       "    }\n",
       "</style>\n",
       "<table border=\"1\" class=\"dataframe\">\n",
       "  <thead>\n",
       "    <tr style=\"text-align: right;\">\n",
       "      <th></th>\n",
       "      <th>Id</th>\n",
       "      <th>Sequence</th>\n",
       "    </tr>\n",
       "  </thead>\n",
       "  <tbody>\n",
       "    <tr>\n",
       "      <th>0</th>\n",
       "      <td>3</td>\n",
       "      <td>1,3,13,87,1053,28576,2141733,508147108,4021352...</td>\n",
       "    </tr>\n",
       "    <tr>\n",
       "      <th>1</th>\n",
       "      <td>7</td>\n",
       "      <td>1,2,1,5,5,1,11,16,7,1,23,44,30,9,1,47,112,104,...</td>\n",
       "    </tr>\n",
       "    <tr>\n",
       "      <th>2</th>\n",
       "      <td>8</td>\n",
       "      <td>1,2,4,5,8,10,16,20,32,40,64,80,128,160,256,320...</td>\n",
       "    </tr>\n",
       "    <tr>\n",
       "      <th>3</th>\n",
       "      <td>11</td>\n",
       "      <td>1,8,25,83,274,2275,132224,1060067,3312425,1099...</td>\n",
       "    </tr>\n",
       "    <tr>\n",
       "      <th>4</th>\n",
       "      <td>13</td>\n",
       "      <td>1,111,12211,1343211,147753211,16252853211,1787...</td>\n",
       "    </tr>\n",
       "  </tbody>\n",
       "</table>\n",
       "</div>"
      ],
      "text/plain": [
       "   Id                                           Sequence\n",
       "0   3  1,3,13,87,1053,28576,2141733,508147108,4021352...\n",
       "1   7  1,2,1,5,5,1,11,16,7,1,23,44,30,9,1,47,112,104,...\n",
       "2   8  1,2,4,5,8,10,16,20,32,40,64,80,128,160,256,320...\n",
       "3  11  1,8,25,83,274,2275,132224,1060067,3312425,1099...\n",
       "4  13  1,111,12211,1343211,147753211,16252853211,1787..."
      ]
     },
     "execution_count": 16,
     "metadata": {},
     "output_type": "execute_result"
    }
   ],
   "source": [
    "df_train.head()"
   ]
  },
  {
   "cell_type": "code",
   "execution_count": 17,
   "metadata": {
    "scrolled": false
   },
   "outputs": [
    {
     "data": {
      "text/html": [
       "<div>\n",
       "<style scoped>\n",
       "    .dataframe tbody tr th:only-of-type {\n",
       "        vertical-align: middle;\n",
       "    }\n",
       "\n",
       "    .dataframe tbody tr th {\n",
       "        vertical-align: top;\n",
       "    }\n",
       "\n",
       "    .dataframe thead th {\n",
       "        text-align: right;\n",
       "    }\n",
       "</style>\n",
       "<table border=\"1\" class=\"dataframe\">\n",
       "  <thead>\n",
       "    <tr style=\"text-align: right;\">\n",
       "      <th></th>\n",
       "      <th>Id</th>\n",
       "      <th>Sequence</th>\n",
       "    </tr>\n",
       "  </thead>\n",
       "  <tbody>\n",
       "    <tr>\n",
       "      <th>0</th>\n",
       "      <td>1</td>\n",
       "      <td>1,0,0,2,24,552,21280,103760,70299264,579285324...</td>\n",
       "    </tr>\n",
       "    <tr>\n",
       "      <th>1</th>\n",
       "      <td>2</td>\n",
       "      <td>1,1,5,11,35,93,269,747,2115,5933,16717,47003,1...</td>\n",
       "    </tr>\n",
       "    <tr>\n",
       "      <th>2</th>\n",
       "      <td>4</td>\n",
       "      <td>0,1,101,2,15,102,73,3,40,16,47,103,51,74,116,4...</td>\n",
       "    </tr>\n",
       "    <tr>\n",
       "      <th>3</th>\n",
       "      <td>5</td>\n",
       "      <td>1,4,14,23,42,33,35,34,63,66,87,116,84,101,126,...</td>\n",
       "    </tr>\n",
       "    <tr>\n",
       "      <th>4</th>\n",
       "      <td>6</td>\n",
       "      <td>1,1,2,5,4,2,6,13,11,4,10,10,12,6,8,29,16,11,18...</td>\n",
       "    </tr>\n",
       "  </tbody>\n",
       "</table>\n",
       "</div>"
      ],
      "text/plain": [
       "   Id                                           Sequence\n",
       "0   1  1,0,0,2,24,552,21280,103760,70299264,579285324...\n",
       "1   2  1,1,5,11,35,93,269,747,2115,5933,16717,47003,1...\n",
       "2   4  0,1,101,2,15,102,73,3,40,16,47,103,51,74,116,4...\n",
       "3   5  1,4,14,23,42,33,35,34,63,66,87,116,84,101,126,...\n",
       "4   6  1,1,2,5,4,2,6,13,11,4,10,10,12,6,8,29,16,11,18..."
      ]
     },
     "execution_count": 17,
     "metadata": {},
     "output_type": "execute_result"
    }
   ],
   "source": [
    "df_test.head()"
   ]
  },
  {
   "cell_type": "code",
   "execution_count": 18,
   "metadata": {},
   "outputs": [
    {
     "data": {
      "text/plain": [
       "array(['4,6,8,9,26,1752',\n",
       "       '1,176,570496,9223556096,460993706622976,55266063875773300736,13556412676746128524312576,6098119622978353294582319415296,4642750780653941150969313976486199296',\n",
       "       '1,3,635,2049219,7372235460687', ...,\n",
       "       '0,0,4,1198,1829388,23796035743,2142967506078650,1608943108575146892075',\n",
       "       '0,-1,-1,-1,-1,10324303,-6586524273069171148,110780954395540516579111562860048860420,5864545399742183862578018016183410025465491904722516203269973267547486512819',\n",
       "       '5,7,179,229,439,557,6113,223999'], dtype=object)"
      ]
     },
     "execution_count": 18,
     "metadata": {},
     "output_type": "execute_result"
    }
   ],
   "source": [
    "df_train[seq_len_train<10]['Sequence'].values"
   ]
  },
  {
   "cell_type": "markdown",
   "metadata": {},
   "source": [
    "- Since the sequence is of variable length, we will use RNN\n",
    "- Sequence has some "
   ]
  },
  {
   "cell_type": "code",
   "execution_count": 20,
   "metadata": {},
   "outputs": [],
   "source": [
    "x = 4642750780653941150969313976486199296"
   ]
  },
  {
   "cell_type": "code",
   "execution_count": 26,
   "metadata": {},
   "outputs": [
    {
     "data": {
      "text/plain": [
       "4.642750780653941"
      ]
     },
     "execution_count": 26,
     "metadata": {},
     "output_type": "execute_result"
    }
   ],
   "source": [
    "x/10**36"
   ]
  },
  {
   "cell_type": "code",
   "execution_count": null,
   "metadata": {},
   "outputs": [],
   "source": []
  }
 ],
 "metadata": {
  "kernelspec": {
   "display_name": "kaggle",
   "language": "python",
   "name": "kaggle"
  },
  "language_info": {
   "codemirror_mode": {
    "name": "ipython",
    "version": 3
   },
   "file_extension": ".py",
   "mimetype": "text/x-python",
   "name": "python",
   "nbconvert_exporter": "python",
   "pygments_lexer": "ipython3",
   "version": "3.7.4"
  }
 },
 "nbformat": 4,
 "nbformat_minor": 4
}
